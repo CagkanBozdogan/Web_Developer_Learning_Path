{
 "cells": [
  {
   "cell_type": "markdown",
   "metadata": {},
   "source": [
    "# Dökümanlar\n",
    "\n",
    "- https://github.com/hakanyalcinkaya/kodluyoruz-frontend-101-egitimi\n",
    "\n",
    "- <'title> sekmede yazan\n",
    "- <'h1> Başlık\n",
    "- <'p> Paragraf\n",
    "- <'br> satır atlıyor\n",
    "- <'a href=\"link.com\">link<'/'a> linke götürüyor.\n",
    "- <'ul> unordered list\n",
    "- <'ol> ordered list\n",
    "- <'li> list item\n",
    "- <'strong> bold yapıyor ve arama motoruna önemli gösteriyor\n",
    "- <'b> sadece bold yapıyor\n",
    "- <'script> içine javascript yazabiliyoruz\n",
    "- <'button> tuş\n",
    "- <'img src=\"foti.png\" alt=\"alt bilgi\"/> resim koyma\n",
    "- <'iframe> youtube videosu veya başka bir belgeyi sitenin içinde göstermek için\n",
    "- <'!--Yorum-->"
   ]
  },
  {
   "cell_type": "code",
   "execution_count": null,
   "metadata": {},
   "outputs": [],
   "source": []
  }
 ],
 "metadata": {
  "kernelspec": {
   "display_name": "Python 3.10.4 64-bit",
   "language": "python",
   "name": "python3"
  },
  "language_info": {
   "codemirror_mode": {
    "name": "ipython",
    "version": 3
   },
   "file_extension": ".py",
   "mimetype": "text/x-python",
   "name": "python",
   "nbconvert_exporter": "python",
   "pygments_lexer": "ipython3",
   "version": "3.10.4"
  },
  "orig_nbformat": 4,
  "vscode": {
   "interpreter": {
    "hash": "75a409abef6bcebbb9c2cbf523bdf517287b7882f145def0f2e17edffa189438"
   }
  }
 },
 "nbformat": 4,
 "nbformat_minor": 2
}
